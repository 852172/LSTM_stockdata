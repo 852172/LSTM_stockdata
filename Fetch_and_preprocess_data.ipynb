{
  "nbformat": 4,
  "nbformat_minor": 0,
  "metadata": {
    "colab": {
      "provenance": []
    },
    "kernelspec": {
      "name": "python3",
      "display_name": "Python 3"
    },
    "language_info": {
      "name": "python"
    }
  },
  "cells": [
    {
      "cell_type": "code",
      "execution_count": null,
      "metadata": {
        "id": "2tWH5VMttOvo"
      },
      "outputs": [],
      "source": [
        "import pandas as pd\n",
        "import numpy as np\n",
        "import math\n",
        "from datetime import datetime, timedelta\n",
        "import matplotlib.pyplot as plt\n",
        "import yfinance as yahoo_finance\n",
        "from sklearn.preprocessing import MinMaxScaler\n",
        "from tensorflow.keras.models import Sequential\n",
        "from tensorflow.keras.layers import LSTM, Dropout, Dense\n",
        "\n",
        "\n",
        "\n",
        "\n",
        "\n",
        "def fetch_AMZN_data():\n",
        "    AMZN_stock_data = yahoo_finance.download(ticker, start_date, end_date, interval='1d',\n",
        "                                         auto_adjust=True)[['Open', 'High', 'Low', 'Close', 'Volume']]\n",
        "    return pd.DataFrame(AMZN_stock_data)\n",
        "    \n",
        "def preprocess_data(AMZN_stock_data):\n",
        "    close_prices = AMZN_stock_data['Close']\n",
        "    values = close_prices.values\n",
        "    training_data_len = math.ceil(len(values)* 0.8)\n",
        "    scaler = MinMaxScaler(feature_range=(0,1))\n",
        "    scaled_data = scaler.fit_transform(values.reshape(-1,1))\n",
        "    train_data = scaled_data[0: training_data_len, :]\n",
        "    return scaled_data, training_data_len, values, scaler"
      ]
    }
  ]
}