{
  "nbformat": 4,
  "nbformat_minor": 0,
  "metadata": {
    "colab": {
      "provenance": []
    },
    "kernelspec": {
      "name": "python3",
      "display_name": "Python 3"
    },
    "language_info": {
      "name": "python"
    }
  },
  "cells": [
    {
      "cell_type": "code",
      "execution_count": null,
      "metadata": {
        "id": "hUIBkwUJtbS3"
      },
      "outputs": [],
      "source": [
        "import pandas as pd\n",
        "import numpy as np\n",
        "import math\n",
        "from datetime import datetime, timedelta\n",
        "import matplotlib.pyplot as plt\n",
        "import yfinance as yahoo_finance\n",
        "from sklearn.preprocessing import MinMaxScaler\n",
        "from tensorflow.keras.models import Sequential\n",
        "from tensorflow.keras.layers import LSTM, Dropout, Dense\n",
        "\n",
        "def prepare_train_data(scaled_data, training_data_len):\n",
        "    train_data = scaled_data[0: training_data_len, :]\n",
        "    x_train = []\n",
        "    y_train = []\n",
        "    for i in range(60, len(train_data)):\n",
        "        x_train.append(train_data[i-60:i, 0])\n",
        "        y_train.append(train_data[i, 0])\n",
        "    x_train, y_train = np.array(x_train), np.array(y_train)\n",
        "    x_train = np.reshape(x_train, (x_train.shape[0], x_train.shape[1], 1))\n",
        "    return x_train, y_train\n",
        "\n",
        "def prepare_test_data(scaled_data, training_data_len, values):\n",
        "    test_data = scaled_data[training_data_len-60: , : ]\n",
        "    x_test = []\n",
        "    y_test = values[training_data_len:]\n",
        "    for i in range(60, len(test_data)):\n",
        "        x_test.append(test_data[i-60:i, 0])\n",
        "    x_test = np.array(x_test)\n",
        "    x_test = np.reshape(x_test, (x_test.shape[0], x_test.shape[1], 1))\n",
        "    return x_test, y_test"
      ]
    }
  ]
}