{
  "nbformat": 4,
  "nbformat_minor": 0,
  "metadata": {
    "colab": {
      "provenance": []
    },
    "kernelspec": {
      "name": "python3",
      "display_name": "Python 3"
    },
    "language_info": {
      "name": "python"
    }
  },
  "cells": [
    {
      "cell_type": "code",
      "execution_count": null,
      "metadata": {
        "id": "DIlvW66PtkpR"
      },
      "outputs": [],
      "source": [
        "import pandas as pd\n",
        "import numpy as np\n",
        "import math\n",
        "from datetime import datetime, timedelta\n",
        "import matplotlib.pyplot as plt\n",
        "import yfinance as yahoo_finance\n",
        "from sklearn.preprocessing import MinMaxScaler\n",
        "from tensorflow.keras.models import Sequential\n",
        "from tensorflow.keras.layers import LSTM, Dropout, Dense\n",
        "\n",
        "def create_model(x_train, lstm_units, dropout):\n",
        "    model = Sequential()\n",
        "    model.add(LSTM(units=lstm_units, return_sequences=True, input_shape=(x_train.shape[1], 1)))\n",
        "    model.add(Dropout(dropout))\n",
        "    model.add(LSTM(units=lstm_units, return_sequences=True))\n",
        "    model.add(Dropout(dropout))\n",
        "    model.add(LSTM(units=lstm_units))\n",
        "    model.add(Dropout(dropout))\n",
        "    model.add(Dense(units=1, activation='relu'))\n",
        "    model.compile(loss='mean_squared_error', optimizer='adam', metrics=['mean_absolute_error'])\n",
        "    model.summary()\n",
        "    return model\n",
        "\n",
        "def train_model(model, x_train, y_train, epochs, batch_size, validation_split):\n",
        "    model.compile(optimizer='adam', loss='mean_squared_error')\n",
        "    history = model.fit(x_train, y_train, epochs=epochs, batch_size=batch_size, validation_split=validation_split)\n",
        "    return model, history\n",
        "\n",
        "def evaluate_model(model, scaler, x_test, y_test):\n",
        "    predictions = model.predict(x_test)\n",
        "    predictions = scaler.inverse_transform(predictions)\n",
        "    rmse = np.sqrt(np.mean(predictions - y_test)**2)\n",
        "    return predictions, rmse\n",
        "\n",
        "def plot_results(train_data, validation_data):\n",
        "    plt.figure(figsize=(16,8))\n",
        "    plt.title('Model Prediction')\n",
        "    plt.xlabel('Date')\n",
        "    plt.ylabel('Close Price USD ($)')\n",
        "    plt.plot(train_data)\n",
        "    plt.plot(validation_data[['Close', 'Predictions']])\n",
        "    plt.legend(['Train', 'Val', 'Predictions'], loc='lower right')\n",
        "    plt.show()"
      ]
    }
  ]
}